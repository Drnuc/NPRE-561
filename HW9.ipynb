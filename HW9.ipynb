{
 "cells": [
  {
   "cell_type": "markdown",
   "metadata": {},
   "source": [
    "# Problem 1"
   ]
  },
  {
   "cell_type": "code",
   "execution_count": 1,
   "metadata": {},
   "outputs": [
    {
     "name": "stdout",
     "output_type": "stream",
     "text": [
      "Probability of not detecting an intruder given clear weather: 0.01342281879194632\n",
      "Probability of not detecting an intruder given cloudy weather: 0.029702970297029726\n",
      "Probability of not detecting an intruder given rain: 0.026490066225165587\n",
      "Probability of not detecting an intruder given snow: 0.03921568627450984\n"
     ]
    }
   ],
   "source": [
    "# Probabilities of each weather condition given that the intruder was detected\n",
    "P_clear_given_detected = 0.60\n",
    "P_cloudy_given_detected = 0.20\n",
    "P_rain_given_detected = 0.15\n",
    "P_snow_given_detected = 0.05\n",
    "\n",
    "# Probabilities of each weather condition given that the intruder was not detected\n",
    "P_clear_given_not_detected = 0.40\n",
    "P_cloudy_given_not_detected = 0.30\n",
    "P_rain_given_not_detected = 0.20\n",
    "P_snow_given_not_detected = 0.10\n",
    "\n",
    "# Probability of detecting an intruder\n",
    "P_detected = 0.98\n",
    "\n",
    "# Probability of not detecting an intruder\n",
    "P_not_detected = 1 - P_detected\n",
    "\n",
    "# Probabilities of each weather condition\n",
    "P_clear = P_clear_given_detected * P_detected + P_clear_given_not_detected * P_not_detected\n",
    "P_cloudy = P_cloudy_given_detected * P_detected + P_cloudy_given_not_detected * P_not_detected\n",
    "P_rain = P_rain_given_detected * P_detected + P_rain_given_not_detected * P_not_detected\n",
    "P_snow = P_snow_given_detected * P_detected + P_snow_given_not_detected * P_not_detected\n",
    "\n",
    "# Probabilities of not detecting an intruder given each weather condition\n",
    "P_not_detected_given_clear = (P_clear_given_not_detected * P_not_detected) / P_clear\n",
    "P_not_detected_given_cloudy = (P_cloudy_given_not_detected * P_not_detected) / P_cloudy\n",
    "P_not_detected_given_rain = (P_rain_given_not_detected * P_not_detected) / P_rain\n",
    "P_not_detected_given_snow = (P_snow_given_not_detected * P_not_detected) / P_snow\n",
    "\n",
    "# Print the probabilities\n",
    "print(\"Probability of not detecting an intruder given clear weather:\", P_not_detected_given_clear)\n",
    "print(\"Probability of not detecting an intruder given cloudy weather:\", P_not_detected_given_cloudy)\n",
    "print(\"Probability of not detecting an intruder given rain:\", P_not_detected_given_rain)\n",
    "print(\"Probability of not detecting an intruder given snow:\", P_not_detected_given_snow)"
   ]
  },
  {
   "cell_type": "markdown",
   "metadata": {},
   "source": [
    "### Based on the calculated probabilities, the weather condition that has the most adverse effects on the intruder detection system is when it's snowing. This is because the probability of not detecting an intruder given snow weather is the highest among all weather conditions, at approximately 0.0392 or 3.92%. This suggests that the system's performance is most negatively affected during snow conditions."
   ]
  },
  {
   "cell_type": "markdown",
   "metadata": {},
   "source": [
    "### Justification\n",
    "\n",
    "Bayes' theorem is a fundamental concept in probability theory and statistics that describes how to update the probabilities of hypotheses when given evidence. It's used in a wide range of applications, from medical diagnostics to machine learning algorithms.\n",
    "\n",
    "This approach is systematic and based on sound mathematical principles. It allows us to incorporate both our prior knowledge (the overall probabilities of detecting or not detecting an intruder) and the observed data (the probabilities of each weather condition given that the intruder was detected or not detected) to make inferences about the conditional probabilities of interest.\n",
    "\n",
    "If we get new data that allows us to update the probabilities of each weather condition given that the intruder was detected or not detected, we can easily incorporate this new data into our calculations."
   ]
  },
  {
   "cell_type": "markdown",
   "metadata": {},
   "source": [
    "# Problem 2"
   ]
  },
  {
   "cell_type": "markdown",
   "metadata": {},
   "source": [
    "### Part a"
   ]
  },
  {
   "cell_type": "code",
   "execution_count": 2,
   "metadata": {},
   "outputs": [
    {
     "data": {
      "image/png": "[encoded data removed]",
      "text/plain": [
       "<Figure size 640x480 with 1 Axes>"
      ]
     },
     "metadata": {},
     "output_type": "display_data"
    }
   ],
   "source": [
    "from scipy.stats import beta\n",
    "import matplotlib.pyplot as plt\n",
    "import numpy as np\n",
    "\n",
    "# Prior parameters (Beta distribution)\n",
    "a_prior = 50  # corresponds to prior mean of 0.5 (a_prior/(a_prior+b_prior))\n",
    "b_prior = 50  # corresponds to prior std deviation of 0.05\n",
    "\n",
    "# Data\n",
    "heads = 23\n",
    "tails = 80 - heads\n",
    "\n",
    "# Posterior parameters\n",
    "a_post = a_prior + heads\n",
    "b_post = b_prior + tails\n",
    "\n",
    "# Plotting\n",
    "x = np.linspace(0, 1, 1000)\n",
    "y_prior = beta.pdf(x, a_prior, b_prior)\n",
    "y_post = beta.pdf(x, a_post, b_post)\n",
    "\n",
    "plt.plot(x, y_prior, label='Prior')\n",
    "plt.plot(x, y_post, label='Posterior')\n",
    "plt.legend()\n",
    "plt.show()"
   ]
  },
  {
   "cell_type": "code",
   "execution_count": 1,
   "metadata": {},
   "outputs": [
    {
     "name": "stdout",
     "output_type": "stream",
     "text": [
      "5.650541216527591e-05\n",
      "Normalization constant: 0.0011142697343261361\n"
     ]
    }
   ],
   "source": [
    "from scipy.stats import binom, norm\n",
    "from scipy.integrate import quad\n",
    "import numpy as np\n",
    "\n",
    "# Prior parameters (Normal distribution)\n",
    "mu = 0.5\n",
    "sigma = 0.05\n",
    "\n",
    "# Data\n",
    "n = 80  # number of trials\n",
    "k = 23  # number of successes (heads)\n",
    "\n",
    "# Likelihood function (Binomial distribution)\n",
    "def likelihood(p):\n",
    "    return binom.pmf(k, n, p)\n",
    "\n",
    "# Prior function (Normal distribution)\n",
    "def prior(p):\n",
    "    return norm.pdf(p, mu, sigma)\n",
    "\n",
    "# Posterior function (product of likelihood and prior)\n",
    "def posterior(p):\n",
    "    return likelihood(p) * prior(p)\n",
    "\n",
    "# Calculate the normalization constant\n",
    "normalization_constant, error = quad(posterior, 0, 1)\n",
    "\n",
    "\n",
    "print(\"Normalization constant:\", normalization_constant)"
   ]
  },
  {
   "cell_type": "markdown",
   "metadata": {},
   "source": [
    "### From Analytical"
   ]
  },
  {
   "cell_type": "code",
   "execution_count": 10,
   "metadata": {},
   "outputs": [
    {
     "name": "stdout",
     "output_type": "stream",
     "text": [
      "0.001114269734326134\n"
     ]
    }
   ],
   "source": [
    "from scipy.integrate import quad\n",
    "from scipy.special import comb\n",
    "import numpy as np\n",
    "\n",
    "# Define the function to integrate\n",
    "def f(p):\n",
    "    return (comb(80, 23) * (p**23) * ((1-p)**(80-23)) * (1/np.sqrt(2*np.pi*(0.05**2))) * np.exp(-((p-0.5)**2)/(2*(0.05**2))))\n",
    "\n",
    "# Calculate the integral from 0 to 1\n",
    "k, error = quad(f, 0, 1)\n",
    "\n",
    "print(k)"
   ]
  },
  {
   "cell_type": "markdown",
   "metadata": {},
   "source": [
    "### Part b"
   ]
  },
  {
   "cell_type": "code",
   "execution_count": 4,
   "metadata": {},
   "outputs": [
    {
     "name": "stdout",
     "output_type": "stream",
     "text": [
      "Probability of p = 0.25: 1.0\n",
      "Probability of p = 0.75: 5.996216974838106e-17\n"
     ]
    }
   ],
   "source": [
    "from scipy.stats import binom\n",
    "\n",
    "# Prior distribution\n",
    "prior = {0.25: 0.5, 0.75: 0.5}\n",
    "\n",
    "# Data\n",
    "n = 80  # number of trials\n",
    "k = 23  # number of successes (heads)\n",
    "\n",
    "# Calculate the likelihood of the data given each possible value of p\n",
    "likelihood = {p: binom.pmf(k, n, p) for p in prior.keys()}\n",
    "\n",
    "# Calculate the unnormalized posterior distribution\n",
    "posterior_unnormalized = {p: likelihood[p] * prior[p] for p in prior.keys()}\n",
    "\n",
    "# Normalize the posterior distribution so that the total probability sums to 1\n",
    "total_probability = sum(posterior_unnormalized.values())\n",
    "posterior = {p: posterior_unnormalized[p] / total_probability for p in prior.keys()}\n",
    "\n",
    "# Print the posterior distribution\n",
    "for p, prob in posterior.items():\n",
    "    print(f\"Probability of p = {p}: {prob}\")"
   ]
  },
  {
   "cell_type": "markdown",
   "metadata": {},
   "source": [
    "### Analytical"
   ]
  },
  {
   "cell_type": "code",
   "execution_count": 14,
   "metadata": {},
   "outputs": [
    {
     "name": "stdout",
     "output_type": "stream",
     "text": [
      "0.006172839506172841\n"
     ]
    }
   ],
   "source": [
    "from scipy.integrate import quad\n",
    "from scipy.special import comb\n",
    "import numpy as np\n",
    "\n",
    "# Define the function to integrate\n",
    "def f(p):\n",
    "    return (comb(80, 23) * (p**23) * ((1-p)**(80-23)) * 0.5 )\n",
    "\n",
    "# Calculate the integral from 0 to 1\n",
    "k, error = quad(f, 0, 1)\n",
    "\n",
    "print(k)"
   ]
  },
  {
   "cell_type": "markdown",
   "metadata": {},
   "source": [
    "### Part c"
   ]
  },
  {
   "cell_type": "code",
   "execution_count": 6,
   "metadata": {},
   "outputs": [
    {
     "name": "stdout",
     "output_type": "stream",
     "text": [
      "Mean of the posterior distribution: 0.2926829268292683\n",
      "Variance of the posterior distribution: 0.0024942124237580902\n",
      "Mode of the posterior distribution: 0.2875\n"
     ]
    },
    {
     "data": {
      "image/png": "[encoded data removed]",
      "text/plain": [
       "<Figure size 640x480 with 1 Axes>"
      ]
     },
     "metadata": {},
     "output_type": "display_data"
    }
   ],
   "source": [
    "from scipy.stats import beta\n",
    "import matplotlib.pyplot as plt\n",
    "import numpy as np\n",
    "\n",
    "# Prior parameters (Uniform distribution is equivalent to Beta(1, 1))\n",
    "a_prior = 1\n",
    "b_prior = 1\n",
    "\n",
    "# Data\n",
    "heads = 23\n",
    "tails = 80 - heads\n",
    "\n",
    "# Posterior parameters\n",
    "a_post = a_prior + heads\n",
    "b_post = b_prior + tails\n",
    "\n",
    "# Mean of the posterior distribution\n",
    "mean_post = a_post / (a_post + b_post)\n",
    "\n",
    "# Variance of the posterior distribution\n",
    "var_post = a_post * b_post / ((a_post + b_post)**2 * (a_post + b_post + 1))\n",
    "\n",
    "# Mode of the posterior distribution\n",
    "mode_post = (a_post - 1) / (a_post + b_post - 2)  # only valid if a_post, b_post > 1\n",
    "\n",
    "print(\"Mean of the posterior distribution:\", mean_post)\n",
    "print(\"Variance of the posterior distribution:\", var_post)\n",
    "print(\"Mode of the posterior distribution:\", mode_post)\n",
    "\n",
    "# Plotting\n",
    "x = np.linspace(0, 1, 1000)\n",
    "y_prior = beta.pdf(x, a_prior, b_prior)\n",
    "y_post = beta.pdf(x, a_post, b_post)\n",
    "\n",
    "plt.plot(x, y_prior, label='Prior')\n",
    "plt.plot(x, y_post, label='Posterior')\n",
    "plt.legend()\n",
    "plt.show()"
   ]
  },
  {
   "cell_type": "markdown",
   "metadata": {},
   "source": [
    "### Analytical"
   ]
  },
  {
   "cell_type": "code",
   "execution_count": 15,
   "metadata": {},
   "outputs": [
    {
     "name": "stdout",
     "output_type": "stream",
     "text": [
      "0.012345679012345682\n"
     ]
    }
   ],
   "source": [
    "from scipy.integrate import quad\n",
    "from scipy.special import comb\n",
    "import numpy as np\n",
    "\n",
    "# Define the function to integrate\n",
    "def f(p):\n",
    "    return (comb(80, 23) * (p**23) * ((1-p)**(80-23)) * 1 )\n",
    "\n",
    "# Calculate the integral from 0 to 1\n",
    "k, error = quad(f, 0, 1)\n",
    "\n",
    "print(k)"
   ]
  },
  {
   "cell_type": "markdown",
   "metadata": {},
   "source": [
    "### Part d"
   ]
  },
  {
   "cell_type": "code",
   "execution_count": 7,
   "metadata": {},
   "outputs": [
    {
     "data": {
      "image/png": "[encoded data removed]",
      "text/plain": [
       "<Figure size 700x500 with 1 Axes>"
      ]
     },
     "metadata": {},
     "output_type": "display_data"
    }
   ],
   "source": [
    "from scipy.stats import norm, binom, beta\n",
    "import matplotlib.pyplot as plt\n",
    "import numpy as np\n",
    "from scipy.integrate import quad\n",
    "\n",
    "# Data\n",
    "n = 80  # number of trials\n",
    "k = 23  # number of successes (heads)\n",
    "\n",
    "# Prior and likelihood for part (a)\n",
    "mu = 0.5\n",
    "sigma = 0.05\n",
    "prior_a = lambda p: norm.pdf(p, mu, sigma)\n",
    "likelihood = lambda p: binom.pmf(k, n, p)\n",
    "\n",
    "# Posterior for part (a)\n",
    "posterior_a_unnormalized = lambda p: likelihood(p) * prior_a(p)\n",
    "normalization_constant_a, _ = quad(posterior_a_unnormalized, 0, 1)  # numerical integration\n",
    "posterior_a = lambda p: posterior_a_unnormalized(p) / normalization_constant_a\n",
    "\n",
    "# Plotting\n",
    "x = np.linspace(0, 1, 1000)\n",
    "plt.figure(figsize=(7, 5))\n",
    "\n",
    "# Part (a)\n",
    "plt.plot(x, prior_a(x), label='Prior')\n",
    "plt.plot(x, posterior_a(x), label='Posterior')\n",
    "plt.title('Part (a)')\n",
    "plt.legend()\n",
    "\n",
    "plt.tight_layout()\n",
    "plt.show()"
   ]
  },
  {
   "cell_type": "code",
   "execution_count": 7,
   "metadata": {},
   "outputs": [
    {
     "data": {
      "image/png": "[encoded data removed]",
      "text/plain": [
       "<Figure size 1500x500 with 2 Axes>"
      ]
     },
     "metadata": {},
     "output_type": "display_data"
    }
   ],
   "source": [
    "from scipy.stats import binom, beta\n",
    "import matplotlib.pyplot as plt\n",
    "import numpy as np\n",
    "\n",
    "# Data\n",
    "n = 80  # number of trials\n",
    "k = 23  # number of successes (heads)\n",
    "\n",
    "# Likelihood\n",
    "likelihood = lambda p: binom.pmf(k, n, p)\n",
    "\n",
    "# Prior and likelihood for part (b)\n",
    "prior_b = {0.25: 0.5, 0.75: 0.5}\n",
    "\n",
    "# Posterior for part (b)\n",
    "posterior_b_unnormalized = {p: likelihood(p) * prior_b[p] for p in prior_b.keys()}\n",
    "total_probability_b = sum(posterior_b_unnormalized.values())\n",
    "posterior_b = {p: posterior_b_unnormalized[p] / total_probability_b for p in prior_b.keys()}\n",
    "\n",
    "# Prior and likelihood for part (c)\n",
    "a_prior = 1\n",
    "b_prior = 1\n",
    "\n",
    "# Posterior for part (c)\n",
    "a_post = a_prior + k\n",
    "b_post = b_prior + (n - k)\n",
    "\n",
    "# Plotting\n",
    "x = np.linspace(0, 1, 1000)\n",
    "plt.figure(figsize=(15, 5))\n",
    "\n",
    "# Part (b)\n",
    "plt.subplot(1, 2, 1)\n",
    "plt.bar(prior_b.keys(), prior_b.values(), width=0.1, label='Prior', alpha=0.5)\n",
    "plt.bar(posterior_b.keys(), posterior_b.values(), width=0.1, label='Posterior', alpha=0.5)\n",
    "plt.xticks(list(prior_b.keys()))\n",
    "plt.title('Part (b)')\n",
    "plt.legend()\n",
    "\n",
    "# Part (c)\n",
    "plt.subplot(1, 2, 2)\n",
    "plt.plot(x, beta.pdf(x, a_prior, b_prior), label='Prior')\n",
    "plt.plot(x, beta.pdf(x, a_post, b_post), label='Posterior')\n",
    "plt.title('Part (c)')\n",
    "plt.legend()\n",
    "\n",
    "plt.tight_layout()\n",
    "plt.show()"
   ]
  },
  {
   "cell_type": "markdown",
   "metadata": {},
   "source": [
    "### Justification \n",
    "\n",
    "The code is divided into several parts, each demonstrating a different prior distribution (Beta, Normal, Discrete, and Uniform) and how the posterior distribution is updated based on the observed data (number of heads and tails from coin tosses).\n",
    "\n",
    "Beta Prior: The Beta distribution is a suitable choice for the prior when the parameter of interest is a probability. The code calculates the posterior parameters and plots the prior and posterior distributions.\n",
    "\n",
    "Normal Prior: The Normal distribution is used as the prior. The likelihood function is defined as a Binomial distribution. The posterior is calculated as the product of the likelihood and the prior, and a normalization constant is calculated to ensure the total probability sums to 1.\n",
    "\n",
    "Discrete Prior: A discrete prior is used with only two possible values for the parameter. The likelihood of the data given each possible value of the parameter is calculated, and the posterior distribution is calculated and normalized.\n",
    "\n",
    "Uniform Prior: A Uniform distribution (equivalent to Beta(1, 1)) is used as the prior. The posterior parameters are calculated and the prior and posterior distributions are plotted.\n",
    "\n",
    "Comparison of Different Priors: The code compares the results of using different priors (Normal, Discrete, and Uniform) and plots the prior and posterior distributions for each case.\n",
    "\n",
    "The reason this approach is considered the best way to solve the problem is because it allows us to use the information we have (the prior distribution and the observed data) to calculate the information we want (the posterior distribution). This approach is systematic and based on sound mathematical principles. It allows us to incorporate both our prior knowledge (the prior distribution) and the observed data to make inferences about the parameter of interest."
   ]
  },
  {
   "cell_type": "markdown",
   "metadata": {},
   "source": [
    "# Problem 3"
   ]
  },
  {
   "cell_type": "markdown",
   "metadata": {},
   "source": [
    "### Part a"
   ]
  },
  {
   "cell_type": "markdown",
   "metadata": {},
   "source": [
    "The Beta distribution is a conjugate prior for the Binomial distribution. This means that if the prior distribution is a Beta distribution and the likelihood function is a Binomial distribution, then the posterior distribution is also a Beta distribution.\n",
    "\n",
    "The Beta distribution is defined as:\n",
    "\n",
    "Beta(R|α, β) = Γ(α + β) / (Γ(α)Γ(β)) * R^(α-1) * (1 - R)^(β-1)\n",
    "\n",
    "The Binomial likelihood function is defined as:\n",
    "\n",
    "L(R|n, k) = C(n, k) * R^k * (1 - R)^(n-k)\n",
    "\n",
    "where n is the number of trials, k is the number of successes, and C(n, k) is the binomial coefficient.\n",
    "\n",
    "The posterior distribution is proportional to the product of the prior and the likelihood:\n",
    "\n",
    "Posterior ∝ Prior * Likelihood\n",
    "\n",
    "Substituting the Beta prior and Binomial likelihood, we get:\n",
    "\n",
    "Posterior ∝ R^(α-1) * (1 - R)^(β-1) * R^k * (1 - R)^(n-k)\n",
    "\n",
    "Simplifying, we get:\n",
    "\n",
    "Posterior ∝ R^(α+k-1) * (1 - R)^(β+n-k-1)\n",
    "\n",
    "This is the form of a Beta distribution with parameters α' = α + k and β' = β + n - k. Therefore, the posterior distribution is a Beta distribution."
   ]
  },
  {
   "cell_type": "markdown",
   "metadata": {},
   "source": [
    "### Part b"
   ]
  },
  {
   "cell_type": "markdown",
   "metadata": {},
   "source": [
    "Mean = α / (α + β) Mode = (α - 1) / (α + β - 2) (for α, β > 1) Variance = αβ / [(α + β)^2 * (α + β + 1)]\n",
    "\n",
    "Given the prior parameters α = 20, β = 2, and the observed data n = 50, k = 49 (one failure means 49 successes), the posterior parameters are α' = α + k = 69 and β' = β + n - k = 3.\n",
    "\n",
    "We can calculate the mean, mode, and variance of the prior and posterior distributions and discuss the difference."
   ]
  },
  {
   "cell_type": "code",
   "execution_count": 23,
   "metadata": {},
   "outputs": [
    {
     "name": "stdout",
     "output_type": "stream",
     "text": [
      "Prior: mean = 0.9090909090909091, mode = 0.95, variance = 0.0035932446999640674\n",
      "Posterior: mean = 0.9583333333333334, mode = 0.9714285714285714, variance = 0.0005469939117199391\n"
     ]
    }
   ],
   "source": [
    "from scipy.stats import beta\n",
    "\n",
    "# Prior parameters\n",
    "alpha_prior = 20\n",
    "beta_prior = 2\n",
    "\n",
    "# Data\n",
    "n = 50\n",
    "k = 49\n",
    "\n",
    "# Posterior parameters\n",
    "alpha_post = alpha_prior + k\n",
    "beta_post = beta_prior + n - k\n",
    "\n",
    "# Statistics\n",
    "mean_prior = beta.mean(alpha_prior, beta_prior)\n",
    "mode_prior = (alpha_prior - 1) / (alpha_prior + beta_prior - 2)\n",
    "var_prior = beta.var(alpha_prior, beta_prior)\n",
    "\n",
    "mean_post = beta.mean(alpha_post, beta_post)\n",
    "mode_post = (alpha_post - 1) / (alpha_post + beta_post - 2)\n",
    "var_post = beta.var(alpha_post, beta_post)\n",
    "\n",
    "print(f\"Prior: mean = {mean_prior}, mode = {mode_prior}, variance = {var_prior}\")\n",
    "print(f\"Posterior: mean = {mean_post}, mode = {mode_post}, variance = {var_post}\")"
   ]
  },
  {
   "cell_type": "markdown",
   "metadata": {},
   "source": [
    "### Analytical"
   ]
  },
  {
   "cell_type": "code",
   "execution_count": 24,
   "metadata": {},
   "outputs": [
    {
     "name": "stdout",
     "output_type": "stream",
     "text": [
      "Prior: mean = 0.9090909090909091, mode = 0.95, variance = 0.0035932446999640674\n",
      "Posterior: mean = 0.9583333333333334, mode = 0.9714285714285714, variance = 0.0005469939117199391\n"
     ]
    }
   ],
   "source": [
    "from scipy.stats import beta\n",
    "\n",
    "# Prior parameters\n",
    "alpha_prior = 20\n",
    "beta_prior = 2\n",
    "\n",
    "# Posterior parameters\n",
    "alpha_post = 69\n",
    "beta_post = 3\n",
    "\n",
    "# Statistics\n",
    "mean_prior = alpha_prior / (alpha_prior + beta_prior)\n",
    "mode_prior = (alpha_prior - 1) / (alpha_prior + beta_prior - 2)\n",
    "var_prior = alpha_prior * beta_prior / (((alpha_prior + beta_prior)**2) * (alpha_prior + beta_prior + 1))\n",
    "\n",
    "mean_post = alpha_post / (alpha_post + beta_post)\n",
    "mode_post = (alpha_post - 1) / (alpha_post + beta_post - 2)\n",
    "var_post = alpha_post * beta_post / (((alpha_post + beta_post)**2) * (alpha_post + beta_post + 1))\n",
    "\n",
    "print(f\"Prior: mean = {mean_prior}, mode = {mode_prior}, variance = {var_prior}\")\n",
    "print(f\"Posterior: mean = {mean_post}, mode = {mode_post}, variance = {var_post}\")"
   ]
  },
  {
   "cell_type": "markdown",
   "metadata": {},
   "source": [
    "### Justification\n",
    "\n",
    "The code is using Bayesian inference with a Beta prior and a Binomial likelihood to update the probability distribution of a parameter (probability of success in a trial) based on observed data.\n",
    "\n",
    "The Beta distribution is a conjugate prior for the Binomial distribution. This means that if the prior distribution is a Beta distribution and the likelihood function is a Binomial distribution, then the posterior distribution is also a Beta distribution. This property simplifies the calculation of the posterior distribution and makes the Beta-Binomial model a popular choice for problems where the parameter of interest is a probability.\n",
    "\n",
    "The code first defines the parameters of the prior distribution (alpha_prior and beta_prior) and the observed data (n and k). It then calculates the parameters of the posterior distribution (alpha_post and beta_post) based on the formula for the Beta-Binomial model.\n",
    "\n",
    "The code then calculates the mean, mode, and variance of the prior and posterior distributions using the formulas for these statistics for a Beta distribution. The mean, mode, and variance provide a summary of the distribution and can be used to understand how the distribution has been updated based on the observed data.\n",
    "\n",
    "The code then prints the mean, mode, and variance of the prior and posterior distributions. This allows us to see how the prior beliefs have been updated based on the observed data.\n",
    "\n",
    "This approach is appropriate for this problem because it allows us to systematically update our beliefs about the parameter of interest based on the observed data. The Beta-Binomial model is a mathematically sound model that is widely used in statistics and machine learning for problems involving probabilities. The use of a conjugate prior simplifies the calculation of the posterior distribution and allows us to easily calculate summary statistics of the distribution."
   ]
  }
 ],
 "metadata": {
  "kernelspec": {
   "display_name": "base",
   "language": "python",
   "name": "python3"
  },
  "language_info": {
   "codemirror_mode": {
    "name": "ipython",
    "version": 3
   },
   "file_extension": ".py",
   "mimetype": "text/x-python",
   "name": "python",
   "nbconvert_exporter": "python",
   "pygments_lexer": "ipython3",
   "version": "3.11.5"
  }
 },
 "nbformat": 4,
 "nbformat_minor": 2
}
